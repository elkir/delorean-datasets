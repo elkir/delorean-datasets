{
 "cells": [
  {
   "cell_type": "code",
   "execution_count": null,
   "metadata": {},
   "outputs": [],
   "source": [
    "import xarray as xr\n",
    "from data_loading.load_ens import *\n",
    "\n",
    "ds = xr.open_mfdataset('../data/mars_v05e_*.grib', engine='cfgrib', concat_dim='time', combine='nested', parallel=True, chunks={'time': 1})\n",
    "ds = calculate_wind_speed(ds)\n",
    "ds = calculate_temperature_in_C(ds)\n",
    "ds = get_diff_values(ds)\n",
    "\n",
    "# use Dask to open multiple E files for distributed computing (1 chunk per file)\n",
    "# ds, dsD = load_multiple_ens_data_ED('../data')\n",
    "ds"
   ]
  },
  {
   "cell_type": "code",
   "execution_count": null,
   "metadata": {},
   "outputs": [],
   "source": [
    "def calculate_wind_power(speed, C=0.612):\n",
    "    return C * speed**3  "
   ]
  },
  {
   "cell_type": "code",
   "execution_count": null,
   "metadata": {},
   "outputs": [],
   "source": [
    "# calculate wind power\n",
    "ds = ds.assign(p10=calculate_wind_power(ds['w10']),\n",
    "               p100=calculate_wind_power(ds['w100']))\n",
    "ds"
   ]
  },
  {
   "cell_type": "code",
   "execution_count": null,
   "metadata": {},
   "outputs": [],
   "source": [
    "from dask.diagnostics import ProgressBar\n",
    "ProgressBar().register()\n",
    "\n",
    "# plot average wind power over space\n",
    "ds.p10.mean(dim=['number','time', 'step']).plot()"
   ]
  },
  {
   "cell_type": "code",
   "execution_count": null,
   "metadata": {},
   "outputs": [],
   "source": [
    "# reduce the dataset to time series of spatial and ensemble means\n",
    "from preprocessing.reducers import *\n",
    "time_series = calculate_climatological_spatial_mean(ds)\n",
    "time_series = time_series.groupby('valid_time').mean()\n",
    "time_series = time_series.to_dataframe()\n",
    "time_series.plot()"
   ]
  },
  {
   "cell_type": "code",
   "execution_count": null,
   "metadata": {},
   "outputs": [],
   "source": [
    "ds['p10'].groupby('valid_time').mean(['number'])"
   ]
  },
  {
   "cell_type": "code",
   "execution_count": null,
   "metadata": {},
   "outputs": [],
   "source": [
    "# calculate average over ensembles and files\n",
    "cross_date_ds = cross_date_mean(ds)\n",
    "cross_date_ds"
   ]
  },
  {
   "cell_type": "code",
   "execution_count": null,
   "metadata": {},
   "outputs": [],
   "source": [
    "import plotly.express as px\n",
    "px.imshow(cross_date_ds.w10, aspect='auto', animation_frame='valid_time')"
   ]
  }
 ],
 "metadata": {
  "kernelspec": {
   "display_name": "Python 3",
   "language": "python",
   "name": "python3"
  },
  "language_info": {
   "codemirror_mode": {
    "name": "ipython",
    "version": 3
   },
   "file_extension": ".py",
   "mimetype": "text/x-python",
   "name": "python",
   "nbconvert_exporter": "python",
   "pygments_lexer": "ipython3",
   "version": "3.8.5"
  }
 },
 "nbformat": 4,
 "nbformat_minor": 2
}
